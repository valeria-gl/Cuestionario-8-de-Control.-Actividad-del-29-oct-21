{
  "nbformat": 4,
  "nbformat_minor": 0,
  "metadata": {
    "colab": {
      "name": "Pila_1358.ipynb",
      "provenance": [],
      "collapsed_sections": [],
      "include_colab_link": true
    },
    "kernelspec": {
      "name": "python3",
      "display_name": "Python 3"
    },
    "language_info": {
      "name": "python"
    }
  },
  "cells": [
    {
      "cell_type": "markdown",
      "metadata": {
        "id": "view-in-github",
        "colab_type": "text"
      },
      "source": [
        "<a href=\"https://colab.research.google.com/github/valeria-gl/Cuestionario-8-de-Control.-Actividad-del-29-oct-21/blob/main/Pila_1358.ipynb\" target=\"_parent\"><img src=\"https://colab.research.google.com/assets/colab-badge.svg\" alt=\"Open In Colab\"/></a>"
      ]
    },
    {
      "cell_type": "code",
      "metadata": {
        "id": "NHT9ldOCryup"
      },
      "source": [
        "class StackADT:\n",
        "  def __init__(self):\n",
        "    self.data = list()\n",
        "    self.tope = 0\n",
        "\n",
        "  def is_empty(self):\n",
        "    return self.tope == 0  \n",
        "\n",
        "  def length(self):\n",
        "    return self.tope \n",
        "\n",
        "  def pop(self):\n",
        "    if not self.is_empty():\n",
        "      self.tope -= 1  \n",
        "      return self.data.pop()\n",
        "\n",
        "  def peek(self):\n",
        "    return self.data[self.tope -1]\n",
        "\n",
        "  def push(self, value):\n",
        "    self.data.append(value)\n",
        "    self.tope += 1    \n",
        "\n",
        "  def to_string(self):\n",
        "    print(\"ESTADO DE LA PILA ES: \")\n",
        "    for elem in self.data[ : :-1]:\n",
        "      print(f\"|{elem}|\") "
      ],
      "execution_count": null,
      "outputs": []
    },
    {
      "cell_type": "code",
      "metadata": {
        "id": "1zcbHDnppZxd"
      },
      "source": [
        "class Array2D():\n",
        "  def __init__(self, ren, col):\n",
        "    self.__columnas = col\n",
        "    self.__renglones = ren\n",
        "    self.__data = [[ 0 for i in range(col)]for i in range (ren)]\n",
        "\n",
        "  def to_string(self):\n",
        "    for i in range(self.__renglones):\n",
        "      print(self.__data[i])\n",
        "\n",
        "  def clear(self, dato):\n",
        "    for i in range (self.__renglones):\n",
        "      for x in range(self.__columnas):\n",
        "        self.__data[i][x] = dato\n",
        "\n",
        "  def get_row_size(self):\n",
        "    return self.__renglones\n",
        "\n",
        "  def get_col_size(self):\n",
        "    return self.__columnas\n",
        "\n",
        "  def set_item(self,ren,col,dato):\n",
        "    self.__data[ren][col] = dato\n",
        "\n",
        "  def get_item(self,ren,col):\n",
        "    return self.__data[ren][col]"
      ],
      "execution_count": null,
      "outputs": []
    },
    {
      "cell_type": "code",
      "metadata": {
        "id": "TiE-K-ATqiWP"
      },
      "source": [
        "class LaberintoADT:\n",
        "  def __init__(self,archivo):\n",
        "    self.laberinto = None #Array2D\n",
        "    self.camino = StackADT()\n",
        "    self.inicializa(archivo)\n",
        "    self.laberinto.to_string()\n",
        "    print(\"Stack\")\n",
        "    self.camino.to_string()\n",
        "\n",
        "    \"\"\"\n",
        "    P ---> Pared\n",
        "    C ---> Corredor\n",
        "    E ---> Entrada\n",
        "    S ---> Salida\n",
        "    X ---> Ya visitado\n",
        "\n",
        "    \"\"\"   \n",
        "\n",
        "  def inicializa(self,archivo):\n",
        "    entrada = open(archivo, 'rt')\n",
        "    self.laberinto = Array2D(int(entrada.readline().strip()), int(entrada.readline().strip()))\n",
        "    self.laberinto.clear(\"P\")\n",
        "    lineas = entrada.readlines()\n",
        "\n",
        "    for r in range(len(lineas)):\n",
        "      lineaBis = lineas[r].strip().split(',')\n",
        "      for c in range(len(lineaBis)):\n",
        "        self.laberinto.set_item(r,c,lineaBis[c])\n",
        "\n",
        "    #buscar la entrada\n",
        "    for r in range(self.laberinto.get_row_size()):\n",
        "      for c in range(self.laberinto.get_col_size()):\n",
        "        if self.laberinto.get_item(r,c) == 'E':\n",
        "          self.camino.push((r,c))    \n",
        "        \n"
      ],
      "execution_count": null,
      "outputs": []
    },
    {
      "cell_type": "code",
      "metadata": {
        "colab": {
          "base_uri": "https://localhost:8080/"
        },
        "id": "xHLTfo9guL5W",
        "outputId": "533a1370-eacf-4162-b49e-a468c9d0b233"
      },
      "source": [
        "juego = LaberintoADT('entrada2.txt')"
      ],
      "execution_count": null,
      "outputs": [
        {
          "output_type": "stream",
          "name": "stdout",
          "text": [
            "['P', 'P', 'P', 'P', 'P']\n",
            "['P', 'P', 'C', 'C', 'S']\n",
            "['P', 'C', 'C', 'P', 'P']\n",
            "['P', 'P', 'C', 'P', 'P']\n",
            "['P', 'P', 'E', 'P', 'P']\n",
            "Stack\n",
            "ESTADO DE LA PILA ES: \n",
            "|(4, 2)|\n"
          ]
        }
      ]
    }
  ]
}